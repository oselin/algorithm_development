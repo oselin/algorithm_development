{
 "cells": [
  {
   "cell_type": "code",
   "execution_count": 1,
   "metadata": {},
   "outputs": [],
   "source": [
    "import numpy as np\n",
    "import matplotlib.pyplot as plt\n",
    "from sklearn.gaussian_process import GaussianProcessRegressor\n",
    "\n",
    "def bayesian_optimization():\n",
    "    model = GaussianProcessRegressor()\n",
    "\n",
    "def surrogate(model: GaussianProcessRegressor, X):\n",
    "    prediction = model.predict(X, return_std=True)\n",
    "    return prediction\n",
    "\n",
    "\n",
    "\n",
    "\n",
    "n_samples = 15\n",
    "\n",
    "#grid_samples = latin_hypercube(n_samples,2)\n",
    "\n",
    "#ticks = np.linspace(0,1,n_samples+1)\n",
    "\n",
    "#fig = plt.figure(figsize=[8,8])\n",
    "#ax = fig.add_subplot(1,1,1)\n",
    "#ax.scatter(grid_samples[0], grid_samples[1])\n",
    "#ax.set_xticks(ticks)\n",
    "#ax.set_yticks(ticks)\n",
    "#ax.grid(True)\n",
    "#plt.show()"
   ]
  },
  {
   "cell_type": "code",
   "execution_count": 2,
   "metadata": {},
   "outputs": [],
   "source": [
    "# STEPS\n",
    "\n",
    "# 1 - In an inteeligent way, sample the domain (it will be noisy)\n",
    "\n",
    "# 2 - Fit the model\n",
    "\n"
   ]
  },
  {
   "cell_type": "code",
   "execution_count": null,
   "metadata": {},
   "outputs": [],
   "source": [
    "\n"
   ]
  }
 ],
 "metadata": {
  "kernelspec": {
   "display_name": "Python 3",
   "language": "python",
   "name": "python3"
  },
  "language_info": {
   "codemirror_mode": {
    "name": "ipython",
    "version": 3
   },
   "file_extension": ".py",
   "mimetype": "text/x-python",
   "name": "python",
   "nbconvert_exporter": "python",
   "pygments_lexer": "ipython3",
   "version": "3.10.6"
  },
  "orig_nbformat": 4
 },
 "nbformat": 4,
 "nbformat_minor": 2
}
