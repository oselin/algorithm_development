{
 "cells": [
  {
   "cell_type": "code",
   "execution_count": 22,
   "metadata": {},
   "outputs": [
    {
     "name": "stdout",
     "output_type": "stream",
     "text": [
      "(9, 3)\n"
     ]
    }
   ],
   "source": [
    "import numpy as np\n",
    "from typing import List\n",
    "\n",
    "\n",
    "\n",
    "\n",
    "\n",
    "\n",
    "def central_composite(X:np.array, bound) -> np.array:\n",
    "    \n",
    "    def new_row(idx):\n",
    "        row = [0 for _ in range(len(X))]\n",
    "        for arr_idx in range(len(row)):\n",
    "            row[arr_idx] = (-1)**(idx//(2**arr_idx)) * bound\n",
    "        return row\n",
    "    \n",
    "    points = [X]\n",
    "\n",
    "    permutations = []\n",
    "    for idx in range(2**len(X)):\n",
    "        permutations.append(new_row(idx))\n",
    "\n",
    "\n",
    "    permutations = np.array(permutations)\n",
    "    return np.vstack((X,X + permutations))\n",
    "\n",
    "a = central_composite([2,2,2],0.1)\n",
    "print (a.shape)"
   ]
  }
 ],
 "metadata": {
  "kernelspec": {
   "display_name": "Python 3",
   "language": "python",
   "name": "python3"
  },
  "language_info": {
   "codemirror_mode": {
    "name": "ipython",
    "version": 3
   },
   "file_extension": ".py",
   "mimetype": "text/x-python",
   "name": "python",
   "nbconvert_exporter": "python",
   "pygments_lexer": "ipython3",
   "version": "3.11.2"
  },
  "orig_nbformat": 4
 },
 "nbformat": 4,
 "nbformat_minor": 2
}
