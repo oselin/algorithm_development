{
 "cells": [
  {
   "cell_type": "code",
   "execution_count": 1,
   "metadata": {},
   "outputs": [],
   "source": [
    "import numpy as np\n",
    "import matplotlib.pyplot as plt\n",
    "from matplotlib import cm\n",
    "from mpl_toolkits.mplot3d import Axes3D\n",
    "\n",
    "from algorithms import *\n",
    "from benchmark import *\n",
    "\n",
    "# Definition of variables\n",
    "benchmarkfunction_list = [StybliskiTang, Rastrigin, Rosenbrock, Beale, Sphere, Perm, GoldsteinPrice, Ackley, Bohachevsky] #Hartmann\n",
    "algorithms_list        = [bayesian_optimization, bfgs, latin_hypercube, nelder_mead, particle_swarm, response_surface, sobol]"
   ]
  },
  {
   "attachments": {},
   "cell_type": "markdown",
   "metadata": {},
   "source": [
    "### Algorithms on test_function"
   ]
  },
  {
   "cell_type": "code",
   "execution_count": 7,
   "metadata": {},
   "outputs": [
    {
     "name": "stdout",
     "output_type": "stream",
     "text": [
      "|Benchmark function    |bayesian_optimization |bfgs                  |latin_hypercube       |nelder_mead           |particle_swarm        |response_surface      |sobol                 |\n",
      "---------------------------------------------------------------------------------------------------------------------------------------------------------------------------------\n",
      "StybliskiTang         |-0.4963432020524076   |-0.4963432020524076   |-4.31809125           |-18.275458046463715   |-7.355829237647357    |-7.355829237647357    |-0.005306660556797738 \n",
      "Rastrigin             |-4.1460029017946525   |-4.1460029017946525   |-5.138408360720941    |-15.74294405137192    |-4.739629212836543    |-4.739629212836543    |0.0                   \n",
      "Rosenbrock            |-0.7512446085350943   |-0.7512446085350943   |-3.805225000000002    |-53.831907649361234   |-8.20993241410822     |-8.20993241410822     |-1.0                  \n",
      "Beale                 |-0.3292272992680001   |-0.3292272992680001   |-0.7190205379328117   |-2.9686797042980886   |-1.631441148532049    |-1.631441148532049    |-0.09809407634838863  \n",
      "Sphere                |-0.02341947879259568  |-0.02341947879259568  |-0.3115000000000002   |-0.19473011291256578  |-0.6174036124232594   |-0.6174036124232594   |0.0                   \n",
      "Perm                  |-0.07708259511766534  |-0.07708259511766534  |-1.2444446367187494   |-5.916828815021002    |-2.1162324845235783   |-2.1162324845235783   |-0.25516343116760254  \n",
      "GoldsteinPrice        |-42.89126537344094    |-42.89126537344094    |-148.65533293628752   |-18891.590247568314   |-360.7869837132662    |-360.7869837132662    |-69.0458984375        \n",
      "Ackley                |-1.313534492765269    |-1.313534492765269    |-2.655539440710033    |-6.712179136035429    |-2.995218369544635    |-2.995218369544635    |0.0                   \n",
      "Bohachevsky           |-0.47686690035404844  |-0.47686690035404844  |-0.9081975813725223   |-1.707399623104237    |-1.5969929678972106   |-1.5969929678972106   |0.0                   \n"
     ]
    }
   ],
   "source": [
    "# Define the X1 and X2 span\n",
    "X1 = X2 = np.linspace(-5, 5, 101)\n",
    "points = np.array([[x1,x2] for x1 in X1 for x2 in X2])\n",
    "\n",
    "# Define the parameters for the algorithms\n",
    "budget    = 100\n",
    "n_samples = 15\n",
    "dimension = 2\n",
    "\n",
    "tests = 200\n",
    "\n",
    "\n",
    "data = [\"Benchmark function\"] + [f.__name__ for f in algorithms_list]\n",
    "\n",
    "for el in (data):\n",
    "    print(f\"|{el:<21}\",end=\" \")\n",
    "print(\"|\")\n",
    "print(f\"{'-' * 21 *(len(data)) + '-'*(len(data) + 1)}\")\n",
    "\n",
    "for test_function in benchmarkfunction_list:\n",
    "\n",
    "    # Compute the function\n",
    "    Fx = test_function(points.T)\n",
    "\n",
    "    # Find minimum and its coordinates\n",
    "    idx  = np.argmin(Fx)\n",
    "    Xmin = points[idx]\n",
    "    Fmin = Fx[idx]\n",
    "    #print(f\"[MIN function] Minimum in x={Xmin[0]},    y={Xmin[1]}    with f={Fx[idx]}\")\n",
    "\n",
    "    results = np.zeros(len(algorithms_list))\n",
    "\n",
    "    for _ in range(tests):\n",
    "        # Define the intial set of points\n",
    "        initial_x =  np.random.uniform(low=-5, high=5, size=[dimension, n_samples])\n",
    "\n",
    "        for idx, fun in enumerate(algorithms_list):\n",
    "\n",
    "            if   (idx == 0): # Bayesian Optmization\n",
    "                X_best, Y_best, X, Y = fun(test_function, X=initial_x, dimension=dimension, n_samples=n_samples, sampling_budget=budget, low=-5, high=5)\n",
    "\n",
    "            elif (idx == 1): # BFGS\n",
    "                #X_best, Y_best, X, Y = fun(test_function, x0=initial_x[:,0], x1=initial_x[:,1], sampling_budget=budget, tol=10e-6)\n",
    "                pass\n",
    "            elif (idx == 2): # Latin Hypercube\n",
    "                X_best, Y_best, X, Y = fun(test_function, n_samples=budget , dimension=dimension, lower_bounds= [-5, -5], upper_bounds=[5, 5])\n",
    "                \n",
    "            elif (idx == 3): # Nelder Mead\n",
    "                X_best, Y_best, X, Y = fun(test_function, x0 = initial_x[:,0], low=-5, high=5, step=0.1, no_improve_thr=10e-6, no_improv_break=10, sampling_budget=budget, alpha=1., gamma=2., rho=-0.5, sigma=0.5)\n",
    "                \n",
    "            elif (idx == 4): # Particle Swarm\n",
    "                X_best, Y_best, X, Y = fun(test_function, X=initial_x, V=None, dimension=dimension, low=-5, high=5, sampling_budget=budget, n_particles=n_samples, tol=10e-6, c1=0.1, c2=0.1, w=0.8)\n",
    "                \n",
    "            elif (idx == 5): # Response Surface Modeling\n",
    "                #X_best, Y_best, X, Y = fun(test_function, x0=initial_x[:,0], sampling_budget=budget, tol = 1e-8, sampling_method=\"box_behnken\", sampling_bound=0.5, iteration_method=\"gradient\", learning_rate=0.01)\n",
    "                pass\n",
    "            elif (idx == 6): # Sobol\n",
    "                X_best, Y_best, X, Y = fun(test_function, n_samples=budget , dimension=dimension, lower_bounds= [-5, -5], upper_bounds=[5, 5])\n",
    "            results[idx] += (Fmin - Y_best)\n",
    "    \n",
    "    results /= tests\n",
    "    print(f\"{test_function.__name__:<21}|\", end=\" \")\n",
    "    for r in (results): print(f\"|{r:<21}\",end=\" \")\n",
    "    print(\"|\")\n",
    "            "
   ]
  }
 ],
 "metadata": {
  "kernelspec": {
   "display_name": "Python 3",
   "language": "python",
   "name": "python3"
  },
  "language_info": {
   "codemirror_mode": {
    "name": "ipython",
    "version": 3
   },
   "file_extension": ".py",
   "mimetype": "text/x-python",
   "name": "python",
   "nbconvert_exporter": "python",
   "pygments_lexer": "ipython3",
   "version": "3.11.2"
  },
  "orig_nbformat": 4
 },
 "nbformat": 4,
 "nbformat_minor": 2
}
