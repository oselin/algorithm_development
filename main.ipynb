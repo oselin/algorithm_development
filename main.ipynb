{
 "cells": [
  {
   "attachments": {},
   "cell_type": "markdown",
   "metadata": {},
   "source": [
    "### Import benchmark functions"
   ]
  },
  {
   "cell_type": "code",
   "execution_count": 1,
   "metadata": {},
   "outputs": [],
   "source": [
    "from benchmark.benchmarkFunctions import *\n",
    "#from algorithms import * \n",
    "from alg.BayesianOptimization import bayesian_optimization, history_wrapper\n",
    "from alg.LatinHypercubeSampling import latin_hypercube\n",
    "from alg.ParticleSwarmOptimization import particle_swarm\n",
    "from alg.SobolSampling import sobol\n",
    "from alg.ResponseSurfaceModeling import response_surface\n",
    "import matplotlib.pyplot as plt\n",
    "from matplotlib import cm\n",
    "\n",
    "\n",
    "# Definition of variables\n",
    "benchmarkfunction_list = [StybliskiTang, Rastrigin, Rosenbrock, Beale, Sphere, Perm, GoldsteinPrice, Ackley, Bohachevsky] #Hartmann\n",
    "algorithms_list        = [particle_swarm, bayesian_optimization]"
   ]
  },
  {
   "attachments": {},
   "cell_type": "markdown",
   "metadata": {},
   "source": [
    "### Benchmark functions"
   ]
  },
  {
   "cell_type": "code",
   "execution_count": null,
   "metadata": {},
   "outputs": [],
   "source": [
    "# Define the X and Y span\n",
    "X = np.mgrid[-5:5.1:0.25, -5:5.1:0.25].reshape(2,-1)\n",
    "\n",
    "# Initialize the figure\n",
    "fig = plt.figure(figsize=[20,20])\n",
    "\n",
    "# Compute the functions and plot the obtained surfaces\n",
    "i = 1\n",
    "for fun in benchmarkfunction_list:\n",
    "    ax = fig.add_subplot(3,3, i, projection='3d')\n",
    "    Z = np.array(fun(X))\n",
    "\n",
    "    surf = ax.plot_trisurf(X[0], X[1], Z, cmap=cm.coolwarm,\n",
    "                       linewidth=0, antialiased=False)\n",
    "\n",
    "    i += 1    \n",
    "plt.show()\n"
   ]
  },
  {
   "attachments": {},
   "cell_type": "markdown",
   "metadata": {},
   "source": [
    "### Bayesian Optimization algorithm"
   ]
  },
  {
   "cell_type": "code",
   "execution_count": null,
   "metadata": {},
   "outputs": [],
   "source": [
    "# Define the X and Y span\n",
    "X = np.mgrid[-5:5.1:0.25, -5:5.1:0.25].reshape(2,-1)\n",
    "\n",
    "\n",
    "# Compute the function\n",
    "r = StybliskiTang(X)\n",
    "\n",
    "# Find minimum and its coordinates\n",
    "idx  = np.argmin(r)\n",
    "Xmin = X[:,idx]\n",
    "\n",
    "# Set the bounds\n",
    "bounds = {'X' : (-5,5), 'Y' : (-5,5)}\n",
    "# Run the optimization algorithm\n",
    "result, hsr = bayesian_optimization(StybliskiTang, bounds, 50, 2)\n",
    "\n",
    "print(f\"[MIN function] Minimum in x={Xmin[0]}, y={Xmin[1]} with f={r[idx]}\")\n",
    "print(f\"[OPTIMIZATION] Minimum in x={result['params']['X']}, y={result['params']['Y']} with f={StybliskiTang([result['params']['X'],result['params']['Y']])}\")\n",
    "\n",
    "\n",
    "hsr =  history_wrapper(hsr)\n",
    "# Show the performance curve\n",
    "t = np.arange(0,len(hsr))\n",
    "fig = plt.figure(figsize=[8,8])\n",
    "ax = fig.add_subplot(1, 1, 1)\n",
    "ax.plot(t, hsr)\n",
    "\n",
    "plt.show()"
   ]
  },
  {
   "attachments": {},
   "cell_type": "markdown",
   "metadata": {},
   "source": [
    "### Particle Swarm Optimization (PSO) algorithm"
   ]
  },
  {
   "cell_type": "code",
   "execution_count": null,
   "metadata": {},
   "outputs": [],
   "source": [
    "# Define the X and Y span\n",
    "X = np.mgrid[-5:5.1:0.25, -5:5.1:0.25].reshape(2,-1)\n",
    "\n",
    "# Compute the function\n",
    "r = StybliskiTang(X)\n",
    "\n",
    "# Find minimum and its coordinates\n",
    "idx  = np.argmin(r)\n",
    "Xmin = X[:,idx]\n",
    "\n",
    "# Run the optimization algorithm\n",
    "result, hsr = particle_swarm(StybliskiTang, low=-5, high=5)\n",
    "\n",
    "print(f\"[MIN function] Minimum in x={Xmin[0]}, y={Xmin[1]} with f={r[idx]}\")\n",
    "print(f\"[OPTIMIZATION] Minimum in x={result[0]}, y={result[1]} with f={StybliskiTang(result)}\")\n",
    "\n",
    "# Show the performance curve\n",
    "t = np.arange(0,len(hsr))\n",
    "fig = plt.figure(figsize=[8,8])\n",
    "ax = fig.add_subplot(1, 1, 1)\n",
    "ax.plot(t, hsr)\n",
    "\n",
    "plt.show()\n"
   ]
  },
  {
   "attachments": {},
   "cell_type": "markdown",
   "metadata": {},
   "source": [
    "### Nelder Mead algorithm"
   ]
  },
  {
   "cell_type": "code",
   "execution_count": null,
   "metadata": {},
   "outputs": [],
   "source": [
    "# Define the X and Y span\n",
    "X = np.mgrid[-5:5.1:0.25, -5:5.1:0.25].reshape(2,-1)\n",
    "\n",
    "# Compute the function\n",
    "r = StybliskiTang(X)\n",
    "\n",
    "# Find minimum and its coordinates\n",
    "idx  = np.argmin(r)\n",
    "Xmin = X[:,idx]\n",
    "\n",
    "# Run the optimization algorithm\n",
    "result, hsr = nelder_mead(StybliskiTang, low=-5, high=5,max_iter=2000)\n",
    "\n",
    "print(f\"[MIN function] Minimum in x={Xmin[0]}, y={Xmin[1]} with f={r[idx]}\")\n",
    "print(f\"[OPTIMIZATION] Minimum in x={result[0]}, y={result[1]} with f={StybliskiTang(result)}\")\n",
    "\n",
    "# Show the performance curve\n",
    "t = np.arange(0,len(hsr))\n",
    "fig = plt.figure(figsize=[8,8])\n",
    "ax = fig.add_subplot(1, 1, 1)\n",
    "ax.plot(t, hsr)\n",
    "\n",
    "plt.show()"
   ]
  },
  {
   "attachments": {},
   "cell_type": "markdown",
   "metadata": {},
   "source": [
    "### Response Surface Modeling "
   ]
  },
  {
   "cell_type": "code",
   "execution_count": 8,
   "metadata": {},
   "outputs": [
    {
     "name": "stdout",
     "output_type": "stream",
     "text": [
      "Required iterations: 99\n",
      "[MIN function] Minimum in f=-156.6638\n",
      "[OPTIMIZATION] Minimum in x=[-2.83630747 -2.83630747], y=[-2.93219335 -0.64500436] with f=-156.35908924591206\n"
     ]
    },
    {
     "data": {
      "image/png": "[encoded data removed]",
      "text/plain": [
       "<Figure size 640x480 with 2 Axes>"
      ]
     },
     "metadata": {},
     "output_type": "display_data"
    }
   ],
   "source": [
    "# Define the X and Y span\n",
    "x = np.linspace(-5, 5, 101)\n",
    "y = np.linspace(-5, 5, 101)\n",
    "# full coordinate arrays\n",
    "xx, yy = np.meshgrid(x, y)\n",
    "\n",
    "# Compute the function\n",
    "r = StybliskiTang([xx,yy])\n",
    "\n",
    "# Find minimum and its coordinates\n",
    "idx  = np.argmin(r)\n",
    "#Xmin = np.mgrid[-5:5.1:0.25, -5:5.1:0.25].reshape(2,-1)\n",
    "#Xmin = Xmin[:,idx]\n",
    "\n",
    "# Run the optimization algorithm\n",
    "x0 = np.random.uniform(-5,5,size=[1,2])[0]\n",
    "X, Y = response_surface(StybliskiTang, X_new=x0, iterations=100, sampling_bound=[2.5,0.6], sampling_method=\"central_composite\")\n",
    "\n",
    "#print(f\"[MIN function] Minimum in x={Xmin[0]}, y={Xmin[1]} with f={r[idx]}\")\n",
    "print(f\"[MIN function] Minimum in f={np.min(r)}\")\n",
    "print(f\"[OPTIMIZATION] Minimum in x={X[-1]}, y={X[1]} with f={Y[-1]}\")\n",
    "\n",
    "\n",
    "h = plt.contourf(xx, yy, r)\n",
    "plt.axis('scaled')\n",
    "plt.scatter(X[:,0], X[:,1], c=\"red\", s=1)\n",
    "plt.scatter(X[0,0],X[0,1],c=\"blue\",s=3)\n",
    "plt.scatter(X[-1,0],X[-1,1],c=\"orange\",s=3)\n",
    "plt.colorbar()\n",
    "plt.show()"
   ]
  },
  {
   "attachments": {},
   "cell_type": "markdown",
   "metadata": {},
   "source": [
    "### Sobol Sampling"
   ]
  },
  {
   "cell_type": "code",
   "execution_count": null,
   "metadata": {},
   "outputs": [],
   "source": [
    "samples = sobol(50, 2, [-5, -5], [5, 5])\n",
    "\n",
    "samples = np.array(samples)\n",
    "\n",
    "fig = plt.figure(figsize=[8,8])\n",
    "ax = fig.add_subplot(1, 1, 1)\n",
    "ax.scatter(samples[:,0], samples[:,1])\n"
   ]
  },
  {
   "attachments": {},
   "cell_type": "markdown",
   "metadata": {},
   "source": [
    "### Latin Hypercube Sampling"
   ]
  },
  {
   "cell_type": "code",
   "execution_count": null,
   "metadata": {},
   "outputs": [],
   "source": [
    "samples = latin_hypercube(50, 2, [-5, -5], [5, 5])\n",
    "\n",
    "samples = np.array(samples)\n",
    "\n",
    "fig = plt.figure(figsize=[8,8])\n",
    "ax = fig.add_subplot(1, 1, 1)\n",
    "ax.scatter(samples[:,0], samples[:,1])\n"
   ]
  },
  {
   "attachments": {},
   "cell_type": "markdown",
   "metadata": {},
   "source": [
    "### Comparison of sampling distribution"
   ]
  },
  {
   "cell_type": "code",
   "execution_count": null,
   "metadata": {},
   "outputs": [],
   "source": [
    "samples_lh = latin_hypercube(50, 2, [-5, -5], [5, 5])\n",
    "samples_sobol = sobol(50, 2, [-5, -5], [5, 5])\n",
    "\n",
    "samples_lh = np.array(samples_lh)\n",
    "samples_sobol = np.array(samples_sobol)\n",
    "\n",
    "fig = plt.figure(figsize=[8,8])\n",
    "ax = fig.add_subplot(1, 1, 1)\n",
    "ax.scatter(samples_lh[:,0], samples_lh[:,1],c=\"blue\")\n",
    "ax.scatter(samples_sobol[:,0], samples_sobol[:,1],c=\"red\")"
   ]
  },
  {
   "attachments": {},
   "cell_type": "markdown",
   "metadata": {},
   "source": [
    "### Algorithms performances"
   ]
  },
  {
   "cell_type": "code",
   "execution_count": null,
   "metadata": {},
   "outputs": [],
   "source": [
    "'''\n",
    "for alg in algorithms_list:\n",
    "\n",
    "    score = []\n",
    "\n",
    "    # Run the optimization algorithms and store the best value after 50 iterations\n",
    "    for fun in benchmarkfunction_list:\n",
    "        score.append(alg(fun), max_iter=50)\n",
    "\n",
    "    # Plot the result to compare performances\n",
    "'''"
   ]
  }
 ],
 "metadata": {
  "kernelspec": {
   "display_name": "Python 3",
   "language": "python",
   "name": "python3"
  },
  "language_info": {
   "codemirror_mode": {
    "name": "ipython",
    "version": 3
   },
   "file_extension": ".py",
   "mimetype": "text/x-python",
   "name": "python",
   "nbconvert_exporter": "python",
   "pygments_lexer": "ipython3",
   "version": "3.11.2"
  },
  "orig_nbformat": 4
 },
 "nbformat": 4,
 "nbformat_minor": 2
}
