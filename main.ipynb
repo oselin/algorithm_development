{
 "cells": [
  {
   "attachments": {},
   "cell_type": "markdown",
   "metadata": {},
   "source": [
    "### Import benchmark functions"
   ]
  },
  {
   "cell_type": "code",
   "execution_count": 1,
   "metadata": {},
   "outputs": [],
   "source": [
    "from benchmark.benchmarkFunctions import *\n",
    "#from algorithms import * \n",
    "from alg.BayesianOptimization import bayesian_optimization\n",
    "from alg.LatinHypercubeSampling import latin_hypercube\n",
    "from alg.ParticleSwarmOptimization import particle_swarm\n",
    "\n",
    "import matplotlib.pyplot as plt\n",
    "from matplotlib import cm\n",
    "\n",
    "\n",
    "# Definition of variables\n",
    "benchmarkfunction_list = [StybliskiTang, Rastrigin, Rosenbrock, Beale, Sphere, Perm, GoldsteinPrice, Ackley, Bohachevsky] #Hartmann\n",
    "algorithms_list        = [particle_swarm, bayesian_optimization]"
   ]
  },
  {
   "attachments": {},
   "cell_type": "markdown",
   "metadata": {},
   "source": [
    "### Benchmark functions"
   ]
  },
  {
   "cell_type": "code",
   "execution_count": null,
   "metadata": {},
   "outputs": [],
   "source": [
    "# Define the X and Y span\n",
    "X = np.mgrid[-5:5.1:0.25, -5:5.1:0.25].reshape(2,-1)\n",
    "\n",
    "# Initialize the figure\n",
    "fig = plt.figure(figsize=[20,20])\n",
    "\n",
    "# Compute the functions and plot the obtained surfaces\n",
    "i = 1\n",
    "for fun in benchmarkfunction_list:\n",
    "    ax = fig.add_subplot(3,3, i, projection='3d')\n",
    "    Z = np.array(fun(X))\n",
    "\n",
    "    surf = ax.plot_trisurf(X[0], X[1], Z, cmap=cm.coolwarm,\n",
    "                       linewidth=0, antialiased=False)\n",
    "\n",
    "    i += 1    \n",
    "plt.show()\n"
   ]
  },
  {
   "attachments": {},
   "cell_type": "markdown",
   "metadata": {},
   "source": [
    "### Bayesian Optimization algorithm"
   ]
  },
  {
   "cell_type": "code",
   "execution_count": 5,
   "metadata": {},
   "outputs": [
    {
     "name": "stdout",
     "output_type": "stream",
     "text": [
      "|   iter    |  target   |     x     |     y     |\n",
      "-------------------------------------------------\n"
     ]
    },
    {
     "ename": "TypeError",
     "evalue": "StybliskiTang() got an unexpected keyword argument 'y'",
     "output_type": "error",
     "traceback": [
      "\u001b[1;31m---------------------------------------------------------------------------\u001b[0m",
      "\u001b[1;31mTypeError\u001b[0m                                 Traceback (most recent call last)",
      "Cell \u001b[1;32mIn[5], line 14\u001b[0m\n\u001b[0;32m     12\u001b[0m bounds \u001b[39m=\u001b[39m {\u001b[39m'\u001b[39m\u001b[39mx\u001b[39m\u001b[39m'\u001b[39m : (\u001b[39m-\u001b[39m\u001b[39m5\u001b[39m,\u001b[39m5\u001b[39m), \u001b[39m'\u001b[39m\u001b[39my\u001b[39m\u001b[39m'\u001b[39m : (\u001b[39m-\u001b[39m\u001b[39m5\u001b[39m,\u001b[39m5\u001b[39m)}\n\u001b[0;32m     13\u001b[0m \u001b[39m# Run the optimization algorithm\u001b[39;00m\n\u001b[1;32m---> 14\u001b[0m result, hsr \u001b[39m=\u001b[39m bayesian_optimization(StybliskiTang, bounds, \u001b[39m50\u001b[39;49m, \u001b[39m2\u001b[39;49m)\n\u001b[0;32m     16\u001b[0m \u001b[39mprint\u001b[39m(\u001b[39mf\u001b[39m\u001b[39m\"\u001b[39m\u001b[39m[MIN function] Minimum in x=\u001b[39m\u001b[39m{\u001b[39;00mXmin[\u001b[39m0\u001b[39m]\u001b[39m}\u001b[39;00m\u001b[39m, y=\u001b[39m\u001b[39m{\u001b[39;00mXmin[\u001b[39m1\u001b[39m]\u001b[39m}\u001b[39;00m\u001b[39m with f=\u001b[39m\u001b[39m{\u001b[39;00mr[idx]\u001b[39m}\u001b[39;00m\u001b[39m\"\u001b[39m)\n\u001b[0;32m     17\u001b[0m \u001b[39mprint\u001b[39m(\u001b[39mf\u001b[39m\u001b[39m\"\u001b[39m\u001b[39m[OPTIMIZATION] Minimum in x=\u001b[39m\u001b[39m{\u001b[39;00mresult[\u001b[39m0\u001b[39m]\u001b[39m}\u001b[39;00m\u001b[39m, y=\u001b[39m\u001b[39m{\u001b[39;00mresult[\u001b[39m1\u001b[39m]\u001b[39m}\u001b[39;00m\u001b[39m with f=\u001b[39m\u001b[39m{\u001b[39;00mStybliskiTang(result)\u001b[39m}\u001b[39;00m\u001b[39m\"\u001b[39m)\n",
      "File \u001b[1;32mc:\\Users\\poselin\\Documents\\algorithm_development\\alg\\BayesianOptimization.py:11\u001b[0m, in \u001b[0;36mbayesian_optimization\u001b[1;34m(fun, bounds, iterations, n_samples)\u001b[0m\n\u001b[0;32m      3\u001b[0m \u001b[39mdef\u001b[39;00m \u001b[39mbayesian_optimization\u001b[39m(fun, bounds, iterations, n_samples):\n\u001b[0;32m      5\u001b[0m     optimizer \u001b[39m=\u001b[39m BayesianOptimization(\n\u001b[0;32m      6\u001b[0m         f\u001b[39m=\u001b[39mfun,\n\u001b[0;32m      7\u001b[0m         pbounds\u001b[39m=\u001b[39mbounds,\n\u001b[0;32m      8\u001b[0m         random_state \u001b[39m=\u001b[39m \u001b[39m1\u001b[39m\n\u001b[0;32m      9\u001b[0m     )\n\u001b[1;32m---> 11\u001b[0m     optimizer\u001b[39m.\u001b[39;49mmaximize(\n\u001b[0;32m     12\u001b[0m         init_points \u001b[39m=\u001b[39;49mn_samples,\n\u001b[0;32m     13\u001b[0m         n_iter \u001b[39m=\u001b[39;49m iterations\n\u001b[0;32m     14\u001b[0m     )\n\u001b[0;32m     16\u001b[0m     \u001b[39mreturn\u001b[39;00m optimizer\u001b[39m.\u001b[39mmax, optimizer\u001b[39m.\u001b[39mres\n",
      "File \u001b[1;32mc:\\Users\\poselin\\AppData\\Local\\Programs\\Python\\Python311\\Lib\\site-packages\\bayes_opt\\bayesian_optimization.py:311\u001b[0m, in \u001b[0;36mBayesianOptimization.maximize\u001b[1;34m(self, init_points, n_iter, acquisition_function, acq, kappa, kappa_decay, kappa_decay_delay, xi, **gp_params)\u001b[0m\n\u001b[0;32m    309\u001b[0m     x_probe \u001b[39m=\u001b[39m \u001b[39mself\u001b[39m\u001b[39m.\u001b[39msuggest(util)\n\u001b[0;32m    310\u001b[0m     iteration \u001b[39m+\u001b[39m\u001b[39m=\u001b[39m \u001b[39m1\u001b[39m\n\u001b[1;32m--> 311\u001b[0m \u001b[39mself\u001b[39;49m\u001b[39m.\u001b[39;49mprobe(x_probe, lazy\u001b[39m=\u001b[39;49m\u001b[39mFalse\u001b[39;49;00m)\n\u001b[0;32m    313\u001b[0m \u001b[39mif\u001b[39;00m \u001b[39mself\u001b[39m\u001b[39m.\u001b[39m_bounds_transformer \u001b[39mand\u001b[39;00m iteration \u001b[39m>\u001b[39m \u001b[39m0\u001b[39m:\n\u001b[0;32m    314\u001b[0m     \u001b[39m# The bounds transformer should only modify the bounds after\u001b[39;00m\n\u001b[0;32m    315\u001b[0m     \u001b[39m# the init_points points (only for the true iterations)\u001b[39;00m\n\u001b[0;32m    316\u001b[0m     \u001b[39mself\u001b[39m\u001b[39m.\u001b[39mset_bounds(\n\u001b[0;32m    317\u001b[0m         \u001b[39mself\u001b[39m\u001b[39m.\u001b[39m_bounds_transformer\u001b[39m.\u001b[39mtransform(\u001b[39mself\u001b[39m\u001b[39m.\u001b[39m_space))\n",
      "File \u001b[1;32mc:\\Users\\poselin\\AppData\\Local\\Programs\\Python\\Python311\\Lib\\site-packages\\bayes_opt\\bayesian_optimization.py:208\u001b[0m, in \u001b[0;36mBayesianOptimization.probe\u001b[1;34m(self, params, lazy)\u001b[0m\n\u001b[0;32m    206\u001b[0m     \u001b[39mself\u001b[39m\u001b[39m.\u001b[39m_queue\u001b[39m.\u001b[39madd(params)\n\u001b[0;32m    207\u001b[0m \u001b[39melse\u001b[39;00m:\n\u001b[1;32m--> 208\u001b[0m     \u001b[39mself\u001b[39;49m\u001b[39m.\u001b[39;49m_space\u001b[39m.\u001b[39;49mprobe(params)\n\u001b[0;32m    209\u001b[0m     \u001b[39mself\u001b[39m\u001b[39m.\u001b[39mdispatch(Events\u001b[39m.\u001b[39mOPTIMIZATION_STEP)\n",
      "File \u001b[1;32mc:\\Users\\poselin\\AppData\\Local\\Programs\\Python\\Python311\\Lib\\site-packages\\bayes_opt\\target_space.py:236\u001b[0m, in \u001b[0;36mTargetSpace.probe\u001b[1;34m(self, params)\u001b[0m\n\u001b[0;32m    234\u001b[0m x \u001b[39m=\u001b[39m \u001b[39mself\u001b[39m\u001b[39m.\u001b[39m_as_array(params)\n\u001b[0;32m    235\u001b[0m params \u001b[39m=\u001b[39m \u001b[39mdict\u001b[39m(\u001b[39mzip\u001b[39m(\u001b[39mself\u001b[39m\u001b[39m.\u001b[39m_keys, x))\n\u001b[1;32m--> 236\u001b[0m target \u001b[39m=\u001b[39m \u001b[39mself\u001b[39;49m\u001b[39m.\u001b[39;49mtarget_func(\u001b[39m*\u001b[39;49m\u001b[39m*\u001b[39;49mparams)\n\u001b[0;32m    238\u001b[0m \u001b[39mif\u001b[39;00m \u001b[39mself\u001b[39m\u001b[39m.\u001b[39m_constraint \u001b[39mis\u001b[39;00m \u001b[39mNone\u001b[39;00m:\n\u001b[0;32m    239\u001b[0m     \u001b[39mself\u001b[39m\u001b[39m.\u001b[39mregister(x, target)\n",
      "\u001b[1;31mTypeError\u001b[0m: StybliskiTang() got an unexpected keyword argument 'y'"
     ]
    }
   ],
   "source": [
    "# Define the X and Y span\n",
    "X = np.mgrid[-5:5.1:0.25, -5:5.1:0.25].reshape(2,-1)\n",
    "\n",
    "# Compute the function\n",
    "r = StybliskiTang(X)\n",
    "\n",
    "# Find minimum and its coordinates\n",
    "idx  = np.argmin(r)\n",
    "Xmin = X[:,idx]\n",
    "\n",
    "# Set the bounds\n",
    "bounds = {'x' : (-5,5), 'y' : (-5,5)}\n",
    "# Run the optimization algorithm\n",
    "result, hsr = bayesian_optimization(StybliskiTang, bounds, 50, 2)\n",
    "\n",
    "print(f\"[MIN function] Minimum in x={Xmin[0]}, y={Xmin[1]} with f={r[idx]}\")\n",
    "print(f\"[OPTIMIZATION] Minimum in x={result[0]}, y={result[1]} with f={StybliskiTang(result)}\")\n",
    "\n",
    "# Show the performance curve\n",
    "t = np.arange(0,len(hsr))\n",
    "fig = plt.figure(figsize=[8,8])\n",
    "ax = fig.add_subplot(1, 1, 1)\n",
    "ax.plot(t, hsr)\n",
    "\n",
    "plt.show()"
   ]
  },
  {
   "attachments": {},
   "cell_type": "markdown",
   "metadata": {},
   "source": [
    "### Particle Swarm Optimization (PSO) algorithm"
   ]
  },
  {
   "cell_type": "code",
   "execution_count": null,
   "metadata": {},
   "outputs": [],
   "source": [
    "# Define the X and Y span\n",
    "X = np.mgrid[-5:5.1:0.25, -5:5.1:0.25].reshape(2,-1)\n",
    "\n",
    "# Compute the function\n",
    "r = StybliskiTang(X)\n",
    "\n",
    "# Find minimum and its coordinates\n",
    "idx  = np.argmin(r)\n",
    "Xmin = X[:,idx]\n",
    "\n",
    "# Run the optimization algorithm\n",
    "result, hsr = particle_swarm(StybliskiTang, low=-5, high=5)\n",
    "\n",
    "print(f\"[MIN function] Minimum in x={Xmin[0]}, y={Xmin[1]} with f={r[idx]}\")\n",
    "print(f\"[OPTIMIZATION] Minimum in x={result[0]}, y={result[1]} with f={StybliskiTang(result)}\")\n",
    "\n",
    "# Show the performance curve\n",
    "t = np.arange(0,len(hsr))\n",
    "fig = plt.figure(figsize=[8,8])\n",
    "ax = fig.add_subplot(1, 1, 1)\n",
    "ax.plot(t, hsr)\n",
    "\n",
    "plt.show()\n"
   ]
  },
  {
   "attachments": {},
   "cell_type": "markdown",
   "metadata": {},
   "source": [
    "### Nelder Mead algorithm"
   ]
  },
  {
   "cell_type": "code",
   "execution_count": null,
   "metadata": {},
   "outputs": [],
   "source": [
    "# Define the X and Y span\n",
    "X = np.mgrid[-5:5.1:0.25, -5:5.1:0.25].reshape(2,-1)\n",
    "\n",
    "# Compute the function\n",
    "r = StybliskiTang(X)\n",
    "\n",
    "# Find minimum and its coordinates\n",
    "idx  = np.argmin(r)\n",
    "Xmin = X[:,idx]\n",
    "\n",
    "# Run the optimization algorithm\n",
    "result, hsr = nelder_mead(StybliskiTang, low=-5, high=5,max_iter=2000)\n",
    "\n",
    "print(f\"[MIN function] Minimum in x={Xmin[0]}, y={Xmin[1]} with f={r[idx]}\")\n",
    "print(f\"[OPTIMIZATION] Minimum in x={result[0]}, y={result[1]} with f={StybliskiTang(result)}\")\n",
    "\n",
    "# Show the performance curve\n",
    "t = np.arange(0,len(hsr))\n",
    "fig = plt.figure(figsize=[8,8])\n",
    "ax = fig.add_subplot(1, 1, 1)\n",
    "ax.plot(t, hsr)\n",
    "\n",
    "plt.show()"
   ]
  },
  {
   "attachments": {},
   "cell_type": "markdown",
   "metadata": {},
   "source": [
    "### Response Surface Modeling "
   ]
  },
  {
   "cell_type": "code",
   "execution_count": null,
   "metadata": {},
   "outputs": [],
   "source": [
    "# Define the X and Y span\n",
    "X = np.mgrid[-5:5.1:0.25, -5:5.1:0.25].reshape(2,-1)\n",
    "\n",
    "# Compute the function\n",
    "r = StybliskiTang(X)\n",
    "\n",
    "# Find minimum and its coordinates\n",
    "idx  = np.argmin(r)\n",
    "Xmin = X[:,idx]\n",
    "\n",
    "# Run the optimization algorithm\n",
    "result, hsr = response_surface(StybliskiTang, low=-5, high=5,max_iter=2000)\n",
    "\n",
    "print(f\"[MIN function] Minimum in x={Xmin[0]}, y={Xmin[1]} with f={r[idx]}\")\n",
    "print(f\"[OPTIMIZATION] Minimum in x={result[0]}, y={result[1]} with f={StybliskiTang(result)}\")\n",
    "\n",
    "# Show the performance curve\n",
    "t = np.arange(0,len(hsr))\n",
    "fig = plt.figure(figsize=[8,8])\n",
    "ax = fig.add_subplot(1, 1, 1)\n",
    "ax.plot(t, hsr)\n",
    "\n",
    "plt.show()"
   ]
  },
  {
   "attachments": {},
   "cell_type": "markdown",
   "metadata": {},
   "source": [
    "### Algorithms performances"
   ]
  },
  {
   "cell_type": "code",
   "execution_count": null,
   "metadata": {},
   "outputs": [],
   "source": [
    "'''\n",
    "for alg in algorithms_list:\n",
    "\n",
    "    score = []\n",
    "\n",
    "    # Run the optimization algorithms and store the best value after 50 iterations\n",
    "    for fun in benchmarkfunction_list:\n",
    "        score.append(alg(fun), max_iter=50)\n",
    "\n",
    "    # Plot the result to compare performances\n",
    "'''"
   ]
  }
 ],
 "metadata": {
  "kernelspec": {
   "display_name": "Python 3",
   "language": "python",
   "name": "python3"
  },
  "language_info": {
   "codemirror_mode": {
    "name": "ipython",
    "version": 3
   },
   "file_extension": ".py",
   "mimetype": "text/x-python",
   "name": "python",
   "nbconvert_exporter": "python",
   "pygments_lexer": "ipython3",
   "version": "3.11.2"
  },
  "orig_nbformat": 4
 },
 "nbformat": 4,
 "nbformat_minor": 2
}
